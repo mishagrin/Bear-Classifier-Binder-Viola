{
 "cells": [
  {
   "cell_type": "markdown",
   "id": "ba79f5d7-12a7-4d0c-bc7b-76457482d8bf",
   "metadata": {},
   "source": [
    "## Bear Classifier\n",
    "\n",
    "Grizzly, black or teddy bear classifier.\n",
    "\n",
    "#### 01. Imports"
   ]
  },
  {
   "cell_type": "code",
   "execution_count": 1,
   "id": "acdb4db8-9017-4c8a-9b6c-d7c2952fa36e",
   "metadata": {},
   "outputs": [],
   "source": [
    "from fastai.vision.all import *\n",
    "from fastai.vision.widgets import *"
   ]
  },
  {
   "cell_type": "markdown",
   "id": "132bbab2-c193-481b-9fdf-39154570e2fa",
   "metadata": {},
   "source": [
    "#### 02. Load model"
   ]
  },
  {
   "cell_type": "code",
   "execution_count": 2,
   "id": "44aa7bca-8089-4117-a3e2-e99148dc193a",
   "metadata": {},
   "outputs": [],
   "source": [
    "# Root dir\n",
    "path = Path()\n",
    "\n",
    "learn_inf = load_learner(path/'model.pkl', cpu=True)"
   ]
  },
  {
   "cell_type": "markdown",
   "id": "d2733e9f-ceed-4fb0-933a-615e014ab708",
   "metadata": {},
   "source": [
    "#### 03. Init GUI wigets"
   ]
  },
  {
   "cell_type": "code",
   "execution_count": 3,
   "id": "436a9b2a-de5c-47e7-aa42-ecfcb880b1b9",
   "metadata": {},
   "outputs": [],
   "source": [
    "#from ipywidgets import widgets\n",
    "\n",
    "btn_upload = widgets.FileUpload(accept='.jpg', multiple=False)\n",
    "out_pl = widgets.Output()\n",
    "lbl_pred = widgets.Label()"
   ]
  },
  {
   "cell_type": "markdown",
   "id": "091b8ede-8cb5-4c96-bbc1-22fc28638c94",
   "metadata": {},
   "source": [
    "#### 04. Predict function"
   ]
  },
  {
   "cell_type": "code",
   "execution_count": 4,
   "id": "d0f74903-a023-4176-9128-ff4a79bba298",
   "metadata": {},
   "outputs": [],
   "source": [
    "def on_data_change(change):\n",
    "    # 01. Before prediction there is no label.\n",
    "    lbl_pred.value = ''\n",
    "\n",
    "    # 02. Get image from `FileUpload` button,\n",
    "    #     [-1] last uploaded.\n",
    "    img = PILImage.create(btn_upload.value[-1].content.tobytes())\n",
    "\n",
    "    # 03. Clear output before prediction.\n",
    "    out_pl.clear_output()\n",
    "\n",
    "    # 04. Display uploaded image.\n",
    "    with out_pl: display(img.to_thumb(128,128))\n",
    "\n",
    "    # 05. Predict label.\n",
    "    pred, pred_idx, probs = learn_inf.predict(img)\n",
    "\n",
    "    # 06. Output prediction to widger.\n",
    "    lbl_pred.value = f'Prediction: {pred}; Probability: {probs[pred_idx]:.04f}'"
   ]
  },
  {
   "cell_type": "markdown",
   "id": "53e8d0d7-a78f-4b6a-be0d-81e386757f4b",
   "metadata": {},
   "source": [
    "#### 05. Add listener to upload button"
   ]
  },
  {
   "cell_type": "code",
   "execution_count": 5,
   "id": "d764ea84-c51c-4d68-9642-476127f5c5f1",
   "metadata": {},
   "outputs": [],
   "source": [
    "# On any image upload trigger on_data_change function.\n",
    "btn_upload.observe(on_data_change, names='value')"
   ]
  },
  {
   "cell_type": "markdown",
   "id": "914aa747-efaa-43d9-bede-f8c186886426",
   "metadata": {},
   "source": [
    "#### 06. Display controls"
   ]
  },
  {
   "cell_type": "code",
   "execution_count": 6,
   "id": "97be9aef-7fbc-45ef-b924-67beec4930e4",
   "metadata": {},
   "outputs": [
    {
     "data": {
      "application/vnd.jupyter.widget-view+json": {
       "model_id": "32d0820570624d308d7f1efb1071afea",
       "version_major": 2,
       "version_minor": 0
      },
      "text/plain": [
       "VBox(children=(Label(value='Select your bear!'), FileUpload(value=(), accept='.jpg', description='Upload'), Ou…"
      ]
     },
     "metadata": {},
     "output_type": "display_data"
    }
   ],
   "source": [
    "display(widgets.VBox([widgets.Label('Select your bear!'), btn_upload, out_pl, lbl_pred]))"
   ]
  },
  {
   "cell_type": "code",
   "execution_count": null,
   "id": "3b1c86bc-563b-4ec4-8ad1-5477f428817e",
   "metadata": {},
   "outputs": [],
   "source": []
  }
 ],
 "metadata": {
  "kernelspec": {
   "display_name": "Python 3 (ipykernel)",
   "language": "python",
   "name": "python3"
  },
  "language_info": {
   "codemirror_mode": {
    "name": "ipython",
    "version": 3
   },
   "file_extension": ".py",
   "mimetype": "text/x-python",
   "name": "python",
   "nbconvert_exporter": "python",
   "pygments_lexer": "ipython3",
   "version": "3.9.19"
  }
 },
 "nbformat": 4,
 "nbformat_minor": 5
}
